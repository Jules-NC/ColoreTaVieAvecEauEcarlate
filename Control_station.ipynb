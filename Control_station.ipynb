{
 "cells": [
  {
   "cell_type": "markdown",
   "metadata": {},
   "source": [
    "#Bienvenue dans le Command Center de la première version du code\n",
    "Posez-vous\n",
    "\n",
    "Options du code:\n",
    "\n",
    "--mode [train/test/custom]\n",
    "\n",
    "    train: entraine le code\n",
    "    Possibilité d'entrainer un certain nombre d'epoch avec la commande:\n",
    "        --epoch [n_epoch]\n",
    "        Possibilité d'entrainer jusqu'a ce qu'un plancher de loss soit atteint avec\n",
    "        \n",
    "        --MSE_stop [seuil]\n",
    "        \n",
    "    test: test le code sur [n] images d'ENTRAINEMENT et enregistre le résultat\n",
    "    custom: test le code sur une image au choix. par défaut testimage.jpg\n",
    "    possibilité de donner le nom d'un fichier avec la commande\n",
    "        --filename [nom_du_fichier]"
   ]
  },
  {
   "cell_type": "code",
   "execution_count": null,
   "metadata": {
    "collapsed": true
   },
   "outputs": [],
   "source": [
    "def show_images(n):\n",
    "  N_IMAGES = n\n",
    "  import os\n",
    "  import matplotlib.pyplot as plt\n",
    "  import matplotlib.image as mpimg\n",
    "\n",
    "  for i in range(N_IMAGES):\n",
    "    image = mpimg.imread(\"logs/image_pred/pred\" + str(i) + \".png\")\n",
    "    print(\"pred\" + str(i) + \".png\")\n",
    "    plt.figure()\n",
    "    plt.grid(False)\n",
    "    plt.title('Our result')\n",
    "    plt.imshow(image)\n",
    "    plt.show()\n",
    "\n",
    "    image = mpimg.imread(\"logs/image_pred/gt\" + str(i) + \".png\")\n",
    "    plt.figure()\n",
    "    plt.grid(False)\n",
    "    plt.title('Ground Truth')\n",
    "    plt.imshow(image)\n",
    "    plt.show()\n",
    "\n",
    "    print(\"\")"
   ]
  },
  {
   "cell_type": "code",
   "execution_count": null,
   "metadata": {
    "collapsed": true
   },
   "outputs": [],
   "source": [
    "%cd\n",
    "!git clone https://github.com/Kernev/ColoreTaVieAvecEauEcarlate.git\n",
    "%cd ColoreTaVieAvecEauEcarlate/"
   ]
  },
  {
   "cell_type": "code",
   "execution_count": null,
   "metadata": {
    "collapsed": true
   },
   "outputs": [],
   "source": [
    "!python image_colorization.py --mode train --epochs 500"
   ]
  },
  {
   "cell_type": "code",
   "execution_count": null,
   "metadata": {
    "collapsed": true
   },
   "outputs": [],
   "source": [
    "!python image_colorization.py --mode test"
   ]
  },
  {
   "cell_type": "code",
   "execution_count": null,
   "metadata": {
    "collapsed": true
   },
   "outputs": [],
   "source": [
    "URL = \"http://poireaumechant.jpg\"\n",
    "!wget -O testimage.jpg URL\n",
    "!python image_colorization.py --mode custom --filename testimage.jpg\n",
    "show_images(1)"
   ]
  }
 ],
 "metadata": {
  "kernelspec": {
   "display_name": "Python 3",
   "language": "python",
   "name": "python3"
  },
  "language_info": {
   "codemirror_mode": {
    "name": "ipython",
    "version": 3
   },
   "file_extension": ".py",
   "mimetype": "text/x-python",
   "name": "python",
   "nbconvert_exporter": "python",
   "pygments_lexer": "ipython3",
   "version": "3.6.1"
  }
 },
 "nbformat": 4,
 "nbformat_minor": 2
}
