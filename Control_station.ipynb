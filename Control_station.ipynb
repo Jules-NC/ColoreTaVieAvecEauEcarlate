{
 "cells": [
  {
   "cell_type": "code",
   "execution_count": 2,
   "metadata": {},
   "outputs": [
    {
     "name": "stdout",
     "output_type": "stream",
     "text": [
      "/home/putain/anaconda3/lib/python3.6/site-packages/h5py/__init__.py:36: FutureWarning: Conversion of the second argument of issubdtype from `float` to `np.floating` is deprecated. In future, it will be treated as `np.float64 == np.dtype(float).type`.\n",
      "  from ._conv import register_converters as _register_converters\n",
      "\n",
      "       USAGE: image_colorization.py [flags]\n",
      "flags:\n",
      "\n",
      "image_colorization.py:\n",
      "  --batch_size: batch size for training\n",
      "    (default: '16')\n",
      "    (an integer)\n",
      "  --beta1: Beta 1 value to use in Adam Optimizer\n",
      "    (default: '0.9')\n",
      "    (a number)\n",
      "  --data_dir: path to dataset\n",
      "    (default: 'Data_zoo/LaMem/')\n",
      "  --[no]debug: Debug mode: True/ False\n",
      "    (default: 'false')\n",
      "  --learning_rate: Learning rate for Adam Optimizer\n",
      "    (default: '0.0001')\n",
      "    (a number)\n",
      "  --logs_dir: path to logs directory\n",
      "    (default: 'logs/')\n",
      "  --mode: Mode train/ test\n",
      "    (default: 'train')\n",
      "  --model_dir: Path to vgg model mat\n",
      "    (default: 'Model_zoo/')\n",
      "\n",
      "Try --helpfull to get a list of all flags.\n"
     ]
    }
   ],
   "source": [
    "!python image_colorization.py --mode train"
   ]
  },
  {
   "cell_type": "code",
   "execution_count": null,
   "metadata": {},
   "outputs": [],
   "source": [
    "!python image_colorization.py --mode test"
   ]
  }
 ],
 "metadata": {
  "kernelspec": {
   "display_name": "Python 3",
   "language": "python",
   "name": "python3"
  },
  "language_info": {
   "codemirror_mode": {
    "name": "ipython",
    "version": 3
   },
   "file_extension": ".py",
   "mimetype": "text/x-python",
   "name": "python",
   "nbconvert_exporter": "python",
   "pygments_lexer": "ipython3",
   "version": "3.6.4"
  }
 },
 "nbformat": 4,
 "nbformat_minor": 2
}
